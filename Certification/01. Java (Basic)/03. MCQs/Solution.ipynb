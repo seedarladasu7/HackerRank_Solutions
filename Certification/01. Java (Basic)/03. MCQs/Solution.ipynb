{
 "cells": [
  {
   "cell_type": "markdown",
   "metadata": {},
   "source": [
    "A Jupyter Notebook don't have a inbuilt kernel for java. So I used IJava NoteBook to create this. If you want to run any program or want to know more about IJava NoteBook then visit [GitHub](https://github.com/SpencerPark/IJava)."
   ]
  },
  {
   "cell_type": "markdown",
   "metadata": {},
   "source": [
    "1. What is the output of following program?\n",
    "    "
   ]
  },
  {
   "cell_type": "code",
   "execution_count": 2,
   "metadata": {},
   "outputs": [],
   "source": [
    "    public class BitPuzzel {\n",
    "        public static void main(String[] args) {\n",
    "            int mask = 0x000F;\n",
    "            int value = 0x2222;\n",
    "            System.out.println(value & mask);\n",
    "        }\n",
    "    }"
   ]
  },
  {
   "cell_type": "code",
   "execution_count": null,
   "metadata": {},
   "outputs": [],
   "source": [
    "Answer: 2"
   ]
  },
  {
   "cell_type": "markdown",
   "metadata": {},
   "source": [
    "2. What is the output of following program?"
   ]
  },
  {
   "cell_type": "code",
   "execution_count": null,
   "metadata": {},
   "outputs": [],
   "source": [
    "    public class A {\n",
    "        int add(int i, int j) {\n",
    "            return i + j;\n",
    "        }\n",
    "    }\n",
    "    public class B extends A {\n",
    "        public static void main(String[] args) {\n",
    "            short s = 9;\n",
    "            System.out.println(add(s, 6));\n",
    "        }\n",
    "    }"
   ]
  },
  {
   "cell_type": "code",
   "execution_count": null,
   "metadata": {},
   "outputs": [],
   "source": [
    "Answer: Compilation Fails due to error at line 9, non-static method referenced from a static context"
   ]
  },
  {
   "cell_type": "markdown",
   "metadata": {},
   "source": [
    "3. Which is the right answer to the following?"
   ]
  },
  {
   "cell_type": "code",
   "execution_count": null,
   "metadata": {},
   "outputs": [],
   "source": [
    "    public interface Syrupable {\n",
    "        void getSugary();\n",
    "    }\n",
    "    abstract class Pancake implements Syrupable {}\n",
    "\n",
    "    class BuleBerryPancake implements Pancake {\n",
    "        public void getSugary() { ; }\n",
    "    }\n",
    "    class SourdoughBuleBerryPancake extends BuleBerryPancake {\n",
    "        void getSugary(int s) { ; }\n",
    "    }"
   ]
  },
  {
   "cell_type": "code",
   "execution_count": null,
   "metadata": {},
   "outputs": [],
   "source": [
    "Answer: Compilation fails due to an error on line 6"
   ]
  },
  {
   "cell_type": "markdown",
   "metadata": {},
   "source": [
    "4. Find the Output"
   ]
  },
  {
   "cell_type": "code",
   "execution_count": null,
   "metadata": {},
   "outputs": [],
   "source": [
    "    try {\n",
    "        Float f = new Float(\"3.0\");\n",
    "        int x = f.intValue();\n",
    "        System.out.println(\"x : \"+x);\n",
    "        byte b = f.byteValue();\n",
    "        System.out.println(\"b : \"+b);\n",
    "        double d = f.doubleValue();\n",
    "        System.out.println(\"d : \"+d);\n",
    "        System.out.println(x + b + d);\n",
    "    } \n",
    "    catch (NumberFormatException e) /* Line 9 */\n",
    "    {\n",
    "        System.out.println(\"bad number\"); /* Line 11 */\n",
    "    }"
   ]
  },
  {
   "cell_type": "code",
   "execution_count": null,
   "metadata": {},
   "outputs": [],
   "source": [
    "Answer: 9.0"
   ]
  },
  {
   "cell_type": "markdown",
   "metadata": {},
   "source": [
    "5. What is a covariant return type?"
   ]
  },
  {
   "cell_type": "code",
   "execution_count": null,
   "metadata": {},
   "outputs": [],
   "source": [
    "Answer: The overiding method can have base type as the return type instead of the derived type"
   ]
  }
 ],
 "metadata": {
  "kernelspec": {
   "display_name": "Java",
   "language": "java",
   "name": "java"
  },
  "language_info": {
   "codemirror_mode": "java",
   "file_extension": ".jshell",
   "mimetype": "text/x-java-source",
   "name": "Java",
   "pygments_lexer": "java",
   "version": "11.0.3+7"
  }
 },
 "nbformat": 4,
 "nbformat_minor": 2
}
